{
 "cells": [
  {
   "cell_type": "code",
   "execution_count": 1,
   "id": "c46b0ad6-c454-4966-83cb-f9169a0f4e42",
   "metadata": {},
   "outputs": [],
   "source": [
    "import pandas as pd\n",
    "import numpy as np\n",
    "import scipy.stats as stats\n",
    "import matplotlib.pyplot as plt"
   ]
  },
  {
   "cell_type": "code",
   "execution_count": 2,
   "id": "24867ea5-66cf-4926-b7ed-79edc816b7b3",
   "metadata": {},
   "outputs": [],
   "source": [
    "data = pd.read_csv(\"./datasets/students_simple.csv\")"
   ]
  },
  {
   "cell_type": "code",
   "execution_count": 3,
   "id": "42c3a412-2993-4d24-8748-9cbc6db98e97",
   "metadata": {},
   "outputs": [],
   "source": [
    "N = 13\n",
    "cols = ['height', 'mass', 'income', 'iq', 'pages', 'age', 'bmi', 'work_exp', 'friends',\t'test_time']\n",
    "col1 = cols[N % 5]\n",
    "col2 = cols[(N ** 2) % 5 + 5]"
   ]
  },
  {
   "cell_type": "markdown",
   "id": "eeb3285a-dbcf-49ef-ba6b-a651192d076e",
   "metadata": {},
   "source": [
    "### Column 1"
   ]
  },
  {
   "cell_type": "code",
   "execution_count": 4,
   "id": "ecb109ff-29cf-4574-a2f5-3294367f2d6c",
   "metadata": {},
   "outputs": [
    {
     "data": {
      "text/plain": [
       "'iq'"
      ]
     },
     "execution_count": 4,
     "metadata": {},
     "output_type": "execute_result"
    }
   ],
   "source": [
    "col1"
   ]
  },
  {
   "cell_type": "markdown",
   "id": "867dbaf2-491c-4f97-877b-30eef9cfebdf",
   "metadata": {},
   "source": [
    "### Column 2"
   ]
  },
  {
   "cell_type": "code",
   "execution_count": 5,
   "id": "ddcd9857-895f-47bd-bbc1-1cf5f5440904",
   "metadata": {},
   "outputs": [
    {
     "data": {
      "text/plain": [
       "'test_time'"
      ]
     },
     "execution_count": 5,
     "metadata": {},
     "output_type": "execute_result"
    }
   ],
   "source": [
    "col2"
   ]
  },
  {
   "cell_type": "code",
   "execution_count": 6,
   "id": "df1f2d8e-a9a0-4179-910f-bdb4d8d5152c",
   "metadata": {},
   "outputs": [],
   "source": [
    "x = data[col1]\n",
    "y = data[col2]"
   ]
  },
  {
   "cell_type": "markdown",
   "id": "6b298457-c085-485c-8b88-7d6886e164c2",
   "metadata": {},
   "source": [
    "# 1. Расчет корреляций"
   ]
  },
  {
   "cell_type": "markdown",
   "id": "a3e1d4f3-9e89-47ae-8306-62e95ce13251",
   "metadata": {},
   "source": [
    "# Фехнера"
   ]
  },
  {
   "cell_type": "code",
   "execution_count": 7,
   "id": "bd3386c0-b09f-4c6b-9917-9ef4ce98497f",
   "metadata": {},
   "outputs": [
    {
     "data": {
      "text/plain": [
       "np.float64(-0.7)"
      ]
     },
     "execution_count": 7,
     "metadata": {},
     "output_type": "execute_result"
    }
   ],
   "source": [
    "    xm = np.mean(x)\n",
    "    ym = np.mean(y)\n",
    "    \n",
    "    xi_xm = x - xm\n",
    "    yi_ym = y - ym\n",
    "    \n",
    "    x_sign = np.sign(xi_xm)\n",
    "    y_sign = np.sign(yi_ym)\n",
    "    \n",
    "    C = np.sum(x_sign == y_sign)\n",
    "    H = np.sum(x_sign != y_sign)\n",
    "    \n",
    "    K_f = (C - H) / (C + H)\n",
    "    K_f"
   ]
  },
  {
   "cell_type": "code",
   "execution_count": 8,
   "id": "f6f4d3a3-d90a-456b-91a7-278a27abba62",
   "metadata": {},
   "outputs": [
    {
     "data": {
      "text/html": [
       "<div>\n",
       "<style scoped>\n",
       "    .dataframe tbody tr th:only-of-type {\n",
       "        vertical-align: middle;\n",
       "    }\n",
       "\n",
       "    .dataframe tbody tr th {\n",
       "        vertical-align: top;\n",
       "    }\n",
       "\n",
       "    .dataframe thead th {\n",
       "        text-align: right;\n",
       "    }\n",
       "</style>\n",
       "<table border=\"1\" class=\"dataframe\">\n",
       "  <thead>\n",
       "    <tr style=\"text-align: right;\">\n",
       "      <th></th>\n",
       "      <th>col1</th>\n",
       "      <th>col2</th>\n",
       "      <th>xi - xm</th>\n",
       "      <th>yi - ym</th>\n",
       "      <th>sign(xi-xm)</th>\n",
       "      <th>sign(yi-ym)</th>\n",
       "      <th>signs_equal</th>\n",
       "    </tr>\n",
       "  </thead>\n",
       "  <tbody>\n",
       "    <tr>\n",
       "      <th>0</th>\n",
       "      <td>95</td>\n",
       "      <td>8.5</td>\n",
       "      <td>-12.4</td>\n",
       "      <td>0.77</td>\n",
       "      <td>-1.0</td>\n",
       "      <td>1.0</td>\n",
       "      <td>False</td>\n",
       "    </tr>\n",
       "    <tr>\n",
       "      <th>1</th>\n",
       "      <td>115</td>\n",
       "      <td>6.2</td>\n",
       "      <td>7.6</td>\n",
       "      <td>-1.53</td>\n",
       "      <td>1.0</td>\n",
       "      <td>-1.0</td>\n",
       "      <td>False</td>\n",
       "    </tr>\n",
       "    <tr>\n",
       "      <th>2</th>\n",
       "      <td>111</td>\n",
       "      <td>6.8</td>\n",
       "      <td>3.6</td>\n",
       "      <td>-0.93</td>\n",
       "      <td>1.0</td>\n",
       "      <td>-1.0</td>\n",
       "      <td>False</td>\n",
       "    </tr>\n",
       "    <tr>\n",
       "      <th>3</th>\n",
       "      <td>97</td>\n",
       "      <td>12.0</td>\n",
       "      <td>-10.4</td>\n",
       "      <td>4.27</td>\n",
       "      <td>-1.0</td>\n",
       "      <td>1.0</td>\n",
       "      <td>False</td>\n",
       "    </tr>\n",
       "    <tr>\n",
       "      <th>4</th>\n",
       "      <td>105</td>\n",
       "      <td>7.5</td>\n",
       "      <td>-2.4</td>\n",
       "      <td>-0.23</td>\n",
       "      <td>-1.0</td>\n",
       "      <td>-1.0</td>\n",
       "      <td>True</td>\n",
       "    </tr>\n",
       "    <tr>\n",
       "      <th>5</th>\n",
       "      <td>98</td>\n",
       "      <td>10.0</td>\n",
       "      <td>-9.4</td>\n",
       "      <td>2.27</td>\n",
       "      <td>-1.0</td>\n",
       "      <td>1.0</td>\n",
       "      <td>False</td>\n",
       "    </tr>\n",
       "    <tr>\n",
       "      <th>6</th>\n",
       "      <td>109</td>\n",
       "      <td>7.2</td>\n",
       "      <td>1.6</td>\n",
       "      <td>-0.53</td>\n",
       "      <td>1.0</td>\n",
       "      <td>-1.0</td>\n",
       "      <td>False</td>\n",
       "    </tr>\n",
       "    <tr>\n",
       "      <th>7</th>\n",
       "      <td>120</td>\n",
       "      <td>4.2</td>\n",
       "      <td>12.6</td>\n",
       "      <td>-3.53</td>\n",
       "      <td>1.0</td>\n",
       "      <td>-1.0</td>\n",
       "      <td>False</td>\n",
       "    </tr>\n",
       "    <tr>\n",
       "      <th>8</th>\n",
       "      <td>122</td>\n",
       "      <td>3.5</td>\n",
       "      <td>14.6</td>\n",
       "      <td>-4.23</td>\n",
       "      <td>1.0</td>\n",
       "      <td>-1.0</td>\n",
       "      <td>False</td>\n",
       "    </tr>\n",
       "    <tr>\n",
       "      <th>9</th>\n",
       "      <td>92</td>\n",
       "      <td>9.5</td>\n",
       "      <td>-15.4</td>\n",
       "      <td>1.77</td>\n",
       "      <td>-1.0</td>\n",
       "      <td>1.0</td>\n",
       "      <td>False</td>\n",
       "    </tr>\n",
       "    <tr>\n",
       "      <th>10</th>\n",
       "      <td>110</td>\n",
       "      <td>7.8</td>\n",
       "      <td>2.6</td>\n",
       "      <td>0.07</td>\n",
       "      <td>1.0</td>\n",
       "      <td>1.0</td>\n",
       "      <td>True</td>\n",
       "    </tr>\n",
       "    <tr>\n",
       "      <th>11</th>\n",
       "      <td>102</td>\n",
       "      <td>8.0</td>\n",
       "      <td>-5.4</td>\n",
       "      <td>0.27</td>\n",
       "      <td>-1.0</td>\n",
       "      <td>1.0</td>\n",
       "      <td>False</td>\n",
       "    </tr>\n",
       "    <tr>\n",
       "      <th>12</th>\n",
       "      <td>108</td>\n",
       "      <td>6.0</td>\n",
       "      <td>0.6</td>\n",
       "      <td>-1.73</td>\n",
       "      <td>1.0</td>\n",
       "      <td>-1.0</td>\n",
       "      <td>False</td>\n",
       "    </tr>\n",
       "    <tr>\n",
       "      <th>13</th>\n",
       "      <td>100</td>\n",
       "      <td>4.8</td>\n",
       "      <td>-7.4</td>\n",
       "      <td>-2.93</td>\n",
       "      <td>-1.0</td>\n",
       "      <td>-1.0</td>\n",
       "      <td>True</td>\n",
       "    </tr>\n",
       "    <tr>\n",
       "      <th>14</th>\n",
       "      <td>104</td>\n",
       "      <td>8.6</td>\n",
       "      <td>-3.4</td>\n",
       "      <td>0.87</td>\n",
       "      <td>-1.0</td>\n",
       "      <td>1.0</td>\n",
       "      <td>False</td>\n",
       "    </tr>\n",
       "    <tr>\n",
       "      <th>15</th>\n",
       "      <td>104</td>\n",
       "      <td>10.0</td>\n",
       "      <td>-3.4</td>\n",
       "      <td>2.27</td>\n",
       "      <td>-1.0</td>\n",
       "      <td>1.0</td>\n",
       "      <td>False</td>\n",
       "    </tr>\n",
       "    <tr>\n",
       "      <th>16</th>\n",
       "      <td>128</td>\n",
       "      <td>4.5</td>\n",
       "      <td>20.6</td>\n",
       "      <td>-3.23</td>\n",
       "      <td>1.0</td>\n",
       "      <td>-1.0</td>\n",
       "      <td>False</td>\n",
       "    </tr>\n",
       "    <tr>\n",
       "      <th>17</th>\n",
       "      <td>106</td>\n",
       "      <td>12.5</td>\n",
       "      <td>-1.4</td>\n",
       "      <td>4.77</td>\n",
       "      <td>-1.0</td>\n",
       "      <td>1.0</td>\n",
       "      <td>False</td>\n",
       "    </tr>\n",
       "    <tr>\n",
       "      <th>18</th>\n",
       "      <td>105</td>\n",
       "      <td>10.5</td>\n",
       "      <td>-2.4</td>\n",
       "      <td>2.77</td>\n",
       "      <td>-1.0</td>\n",
       "      <td>1.0</td>\n",
       "      <td>False</td>\n",
       "    </tr>\n",
       "    <tr>\n",
       "      <th>19</th>\n",
       "      <td>117</td>\n",
       "      <td>6.5</td>\n",
       "      <td>9.6</td>\n",
       "      <td>-1.23</td>\n",
       "      <td>1.0</td>\n",
       "      <td>-1.0</td>\n",
       "      <td>False</td>\n",
       "    </tr>\n",
       "  </tbody>\n",
       "</table>\n",
       "</div>"
      ],
      "text/plain": [
       "    col1  col2  xi - xm  yi - ym  sign(xi-xm)  sign(yi-ym)  signs_equal\n",
       "0     95   8.5    -12.4     0.77         -1.0          1.0        False\n",
       "1    115   6.2      7.6    -1.53          1.0         -1.0        False\n",
       "2    111   6.8      3.6    -0.93          1.0         -1.0        False\n",
       "3     97  12.0    -10.4     4.27         -1.0          1.0        False\n",
       "4    105   7.5     -2.4    -0.23         -1.0         -1.0         True\n",
       "5     98  10.0     -9.4     2.27         -1.0          1.0        False\n",
       "6    109   7.2      1.6    -0.53          1.0         -1.0        False\n",
       "7    120   4.2     12.6    -3.53          1.0         -1.0        False\n",
       "8    122   3.5     14.6    -4.23          1.0         -1.0        False\n",
       "9     92   9.5    -15.4     1.77         -1.0          1.0        False\n",
       "10   110   7.8      2.6     0.07          1.0          1.0         True\n",
       "11   102   8.0     -5.4     0.27         -1.0          1.0        False\n",
       "12   108   6.0      0.6    -1.73          1.0         -1.0        False\n",
       "13   100   4.8     -7.4    -2.93         -1.0         -1.0         True\n",
       "14   104   8.6     -3.4     0.87         -1.0          1.0        False\n",
       "15   104  10.0     -3.4     2.27         -1.0          1.0        False\n",
       "16   128   4.5     20.6    -3.23          1.0         -1.0        False\n",
       "17   106  12.5     -1.4     4.77         -1.0          1.0        False\n",
       "18   105  10.5     -2.4     2.77         -1.0          1.0        False\n",
       "19   117   6.5      9.6    -1.23          1.0         -1.0        False"
      ]
     },
     "execution_count": 8,
     "metadata": {},
     "output_type": "execute_result"
    }
   ],
   "source": [
    "    results_table = pd.DataFrame({\n",
    "            'col1': x,\n",
    "            'col2': y,\n",
    "            'xi - xm': xi_xm,\n",
    "            'yi - ym': yi_ym,\n",
    "            'sign(xi-xm)': x_sign,\n",
    "            'sign(yi-ym)': y_sign,\n",
    "            'signs_equal': x_sign == y_sign\n",
    "        })\n",
    "\n",
    "    results_table"
   ]
  },
  {
   "cell_type": "markdown",
   "id": "8f41bde6-bdc8-4235-bca6-66ea2d889aec",
   "metadata": {},
   "source": [
    "## Пирсона + доверительный интервал"
   ]
  },
  {
   "cell_type": "code",
   "execution_count": 9,
   "id": "37350273-b606-4a63-b870-c0958eeb2aec",
   "metadata": {},
   "outputs": [
    {
     "data": {
      "text/plain": [
       "np.float64(-0.6818137442428797)"
      ]
     },
     "execution_count": 9,
     "metadata": {},
     "output_type": "execute_result"
    }
   ],
   "source": [
    "\n",
    "    sigma_x = np.sqrt(np.var(x))\n",
    "    sigma_y = np.sqrt(np.var(y))\n",
    "\n",
    "    xy = x * y\n",
    "    xy_mean = np.mean(xy)\n",
    "    sigma_xy = xy_mean - (xm * ym)\n",
    "\n",
    "    r_xy = sigma_xy / (sigma_x * sigma_y)\n",
    "    r_xy"
   ]
  },
  {
   "cell_type": "code",
   "execution_count": 10,
   "id": "76d6e674-3fee-4168-9e99-35b091211d04",
   "metadata": {},
   "outputs": [
    {
     "name": "stdout",
     "output_type": "stream",
     "text": [
      "-0.8637320870296649 - -0.3426875305481842\n"
     ]
    }
   ],
   "source": [
    "    confidence=0.95\n",
    "    z = np.arctanh(r_xy)  \n",
    "    se_z = 1 / np.sqrt(len(x) - 3)\n",
    "    z_critical = stats.norm.ppf((1 + confidence) / 2)\n",
    "    z_lower = z - z_critical * se_z\n",
    "    z_upper = z + z_critical * se_z\n",
    "    r_lower = np.tanh(z_lower)\n",
    "    r_upper = np.tanh(z_upper)\n",
    "    print(r_lower,\"-\", r_upper)"
   ]
  },
  {
   "cell_type": "markdown",
   "id": "d650b47e-de30-41fa-ae0e-17d872e7aeb7",
   "metadata": {},
   "source": [
    "## Спирмена"
   ]
  },
  {
   "cell_type": "code",
   "execution_count": 11,
   "id": "63126a87-2c62-4591-88a3-69209fae1bbb",
   "metadata": {},
   "outputs": [],
   "source": [
    "def get_ranks(data):\n",
    "    indexed = [(value, idx) for idx, value in enumerate(data)]\n",
    "    sorted_data = sorted(indexed, key=lambda x: x[0])\n",
    "    ranks = [0] * len(data)\n",
    "    for rank, (value, original_idx) in enumerate(sorted_data):\n",
    "        ranks[original_idx] = rank + 1\n",
    "    return np.array(ranks)  "
   ]
  },
  {
   "cell_type": "code",
   "execution_count": 12,
   "id": "d61d90c1-a7b7-41b6-af76-7858b475382c",
   "metadata": {},
   "outputs": [
    {
     "data": {
      "text/plain": [
       "np.float64(-0.6706766917293231)"
      ]
     },
     "execution_count": 12,
     "metadata": {},
     "output_type": "execute_result"
    }
   ],
   "source": [
    "    xr = get_ranks(x)\n",
    "    yr = get_ranks(y)\n",
    "    sigma_xr = np.sqrt(np.var(xr))\n",
    "    sigma_yr = np.sqrt(np.var(yr))\n",
    "\n",
    "    xyr = xr * yr\n",
    "    xyr_mean = np.mean(xyr)\n",
    "    xrm = np.mean(xr)\n",
    "    yrm = np.mean(yr)\n",
    "    sigma_xyr = xyr_mean - (xrm * yrm)\n",
    "\n",
    "    r_xyr = sigma_xyr / (sigma_xr * sigma_yr)\n",
    "    r_xyr"
   ]
  },
  {
   "cell_type": "markdown",
   "id": "d37dfa0e-efd5-4f0b-bb9e-d15dcedb0dec",
   "metadata": {},
   "source": [
    "## Кенделла"
   ]
  },
  {
   "cell_type": "code",
   "execution_count": 13,
   "id": "d85196b6-439a-4dcd-8daf-5f88a965a986",
   "metadata": {},
   "outputs": [
    {
     "data": {
      "text/plain": [
       "np.float64(-0.5157894736842106)"
      ]
     },
     "execution_count": 13,
     "metadata": {},
     "output_type": "execute_result"
    }
   ],
   "source": [
    "    n = len(x)\n",
    "    discordant_pairs = 0\n",
    "    for i in range(n-1):\n",
    "            x_comp = x[i] < x[i+1:]\n",
    "            y_comp = y[i] < y[i+1:]\n",
    "            discordant_pairs += np.sum(x_comp != y_comp)\n",
    "        \n",
    "    K = 1 - (4 * discordant_pairs) / (n * (n - 1))\n",
    "    K"
   ]
  },
  {
   "cell_type": "markdown",
   "id": "6c2c0201-0318-4f74-a355-66ebea6455d7",
   "metadata": {},
   "source": [
    "Получили, что данные противоположно направлены, то есть, есть обратная зависимость"
   ]
  },
  {
   "cell_type": "markdown",
   "id": "f20961cb-2f58-4a1e-a7d5-c4d19df0ac1c",
   "metadata": {},
   "source": [
    "# 2. Визуализация"
   ]
  },
  {
   "cell_type": "code",
   "execution_count": 14,
   "id": "9e22de9b-255e-42af-983c-535076b716d8",
   "metadata": {},
   "outputs": [
    {
     "data": {
      "image/png": "[encoded data removed]",
      "text/plain": [
       "<Figure size 640x480 with 2 Axes>"
      ]
     },
     "metadata": {},
     "output_type": "display_data"
    },
    {
     "data": {
      "image/png": "[encoded data removed]",
      "text/plain": [
       "<Figure size 640x480 with 1 Axes>"
      ]
     },
     "metadata": {},
     "output_type": "display_data"
    }
   ],
   "source": [
    "fig, ax = plt.subplots(2)\n",
    "ax[0].hist(x, bins=1 + int(1 + int(np.log2(n))), edgecolor=\"black\")\n",
    "ax[1].hist(y, bins=1 + int(1 + int(np.log2(n))), edgecolor=\"black\")\n",
    "ax[0].set_title(col1)\n",
    "ax[1].set_title(col2)\n",
    "plt.subplots_adjust(hspace=0.3)\n",
    "plt.show()\n",
    "\n",
    "plt.scatter(x, y)\n",
    "plt.xlabel(col1)\n",
    "plt.ylabel(col2)\n",
    "plt.show()\n"
   ]
  },
  {
   "cell_type": "markdown",
   "id": "79ee55ed-e3bb-4c9a-a8e6-411fdc2f3b01",
   "metadata": {},
   "source": [
    "Гистограммы показывают, что распределение похоже на нормальное, а график рассеяния также показывает обратную зависимость"
   ]
  },
  {
   "cell_type": "markdown",
   "id": "6ace02b5-a3ea-4c2c-99b8-c1341f5c9b9f",
   "metadata": {},
   "source": [
    "# 3.Уравнение регрессии"
   ]
  },
  {
   "cell_type": "code",
   "execution_count": 15,
   "id": "ef5de825-233c-455b-b394-51f8b30470cc",
   "metadata": {},
   "outputs": [
    {
     "name": "stdout",
     "output_type": "stream",
     "text": [
      "[-0.18311069 27.39608779]\n",
      "[-3.29986046e-03  5.39594178e-01 -1.18826559e+01]\n",
      "[2091.874046    -11.88594408]\n",
      "[  0.97350663 130.80136187]\n"
     ]
    }
   ],
   "source": [
    "def linear(x, y):\n",
    "    X = np.column_stack((x, np.ones_like(x)))\n",
    "    w = np.linalg.lstsq(X, y, rcond=None)[0]\n",
    "    y_pred = X @ w\n",
    "    return w, y_pred\n",
    "\n",
    "def quadratic(x, y):\n",
    "    X = np.column_stack((x**2, x, np.ones_like(x)))\n",
    "    w = np.linalg.lstsq(X, y, rcond=None)[0]\n",
    "    y_pred = X @ w\n",
    "    return w, y_pred\n",
    "\n",
    "def hyper(x, y):\n",
    "    X = np.column_stack((1 / x, np.ones_like(x)))\n",
    "    w = np.linalg.lstsq(X, y, rcond=None)[0]\n",
    "    y_pred = X @ w\n",
    "    return w, y_pred\n",
    "\n",
    "def logarifm(x, y):\n",
    "    y_log = np.log(y)\n",
    "    X = np.column_stack((x, np.ones_like(x)))\n",
    "    w = np.linalg.lstsq(X, y_log, rcond=None)[0]\n",
    "    return np.exp(w), np.exp(X @ w)\n",
    "\n",
    "w_lin, pred_y_lin = linear(x, y)\n",
    "w_quad, pred_y_quad = quadratic(x, y)\n",
    "w_hyp, pred_y_hyp = hyper(x, y)\n",
    "w_log, pred_y_log = logarifm(x, y)\n",
    "print(w_lin)\n",
    "print(w_quad)\n",
    "print(w_hyp)\n",
    "print(w_log)"
   ]
  },
  {
   "cell_type": "code",
   "execution_count": 16,
   "id": "ab1b8030-c054-4a2d-bf94-dd24d9f77f75",
   "metadata": {},
   "outputs": [
    {
     "name": "stdout",
     "output_type": "stream",
     "text": [
      "0.4648699818384965   15.636685271069128\n",
      "0.4825205329987301   7.925772503122604\n",
      "0.4409720100018639   14.198745540558741\n",
      "0.4174482021036049   12.898539949577565\n"
     ]
    }
   ],
   "source": [
    "def calculate_r2(y_true, y_pred):\n",
    "    ss_res = np.sum((y_true - y_pred)**2)\n",
    "    ss_tot = np.sum((y_true - np.mean(y_true))**2)\n",
    "    return 1 - ss_res/ss_tot\n",
    "\n",
    "def calculate_f_statistic(r2, n, k):\n",
    "    return (r2 / (1 - r2)) * ((n - k) / (k - 1))\n",
    "\n",
    "r2_lin = calculate_r2(y, pred_y_lin)\n",
    "f_lin = calculate_f_statistic(r2_lin, n, 2)\n",
    "print(r2_lin, \" \", f_lin)\n",
    "\n",
    "r2_quad = calculate_r2(y, pred_y_quad)\n",
    "f_quad = calculate_f_statistic(r2_quad, n, 3)\n",
    "print(r2_quad, \" \", f_quad)\n",
    "\n",
    "r2_hyp = calculate_r2(y, pred_y_hyp)\n",
    "f_hyp = calculate_f_statistic(r2_hyp, n, 2)\n",
    "print(r2_hyp, \" \", f_hyp)\n",
    "\n",
    "r2_log = calculate_r2(y, pred_y_log)\n",
    "f_log = calculate_f_statistic(r2_log, n, 2)\n",
    "print(r2_log, \" \", f_log)\n",
    "\n"
   ]
  },
  {
   "cell_type": "markdown",
   "id": "954f86e3-d0e3-41ca-8e87-e16a36f8f12b",
   "metadata": {},
   "source": [
    "# Графики"
   ]
  },
  {
   "cell_type": "code",
   "execution_count": 17,
   "id": "0021be39-2ca6-4919-b82e-f40795a27f69",
   "metadata": {},
   "outputs": [
    {
     "data": {
      "image/png": "[encoded data removed]",
      "text/plain": [
       "<Figure size 640x480 with 1 Axes>"
      ]
     },
     "metadata": {},
     "output_type": "display_data"
    },
    {
     "data": {
      "image/png": "[encoded data removed]",
      "text/plain": [
       "<Figure size 640x480 with 1 Axes>"
      ]
     },
     "metadata": {},
     "output_type": "display_data"
    },
    {
     "data": {
      "image/png": "[encoded data removed]",
      "text/plain": [
       "<Figure size 640x480 with 1 Axes>"
      ]
     },
     "metadata": {},
     "output_type": "display_data"
    },
    {
     "data": {
      "image/png": "[encoded data removed]",
      "text/plain": [
       "<Figure size 640x480 with 1 Axes>"
      ]
     },
     "metadata": {},
     "output_type": "display_data"
    }
   ],
   "source": [
    "plt.scatter(x, pred_y_lin, color=\"green\")\n",
    "plt.scatter(x, y)\n",
    "plt.show()\n",
    "\n",
    "\n",
    "plt.scatter(x, pred_y_quad, color=\"green\")\n",
    "plt.scatter(x, y)\n",
    "plt.show()\n",
    "\n",
    "plt.scatter(x, pred_y_hyp, color=\"green\")\n",
    "plt.scatter(x, y)\n",
    "plt.show()\n",
    "\n",
    "plt.scatter(x, pred_y_log, color=\"green\")\n",
    "plt.scatter(x, y)\n",
    "plt.show()"
   ]
  },
  {
   "cell_type": "markdown",
   "id": "5a2c6d7a-d968-422b-b867-e2f0f41a1496",
   "metadata": {},
   "source": [
    "В целом по Фишеру, подходят все регресси, но наилучшая - линейная, а наихудшая - квадратичная "
   ]
  }
 ],
 "metadata": {
  "kernelspec": {
   "display_name": "Python 3 (ipykernel)",
   "language": "python",
   "name": "python3"
  },
  "language_info": {
   "codemirror_mode": {
    "name": "ipython",
    "version": 3
   },
   "file_extension": ".py",
   "mimetype": "text/x-python",
   "name": "python",
   "nbconvert_exporter": "python",
   "pygments_lexer": "ipython3",
   "version": "3.13.7"
  }
 },
 "nbformat": 4,
 "nbformat_minor": 5
}
