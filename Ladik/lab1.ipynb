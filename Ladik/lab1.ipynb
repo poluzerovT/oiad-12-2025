{
 "cells": [
  {
   "cell_type": "code",
   "execution_count": 1,
   "id": "8cb18298-6a82-4f9d-9852-d850b3c8f4f0",
   "metadata": {},
   "outputs": [
    {
     "data": {
      "text/plain": [
       "'Time_on_Education'"
      ]
     },
     "execution_count": 1,
     "metadata": {},
     "output_type": "execute_result"
    }
   ],
   "source": [
    "N = 13\n",
    "cols = ['Daily_Usage_Hours', 'Sleep_Hours', 'Exercise_Hours', 'Screen_Time_Before_Bed', 'Time_on_Social_Media', 'Time_on_Gaming', 'Time_on_Education']\n",
    "col = cols[N % 7]\n",
    "col"
   ]
  },
  {
   "cell_type": "code",
   "execution_count": 2,
   "id": "1eb5cafb-1054-49a4-9d9e-1e5aec24ffe0",
   "metadata": {},
   "outputs": [],
   "source": [
    "import pandas as pd\n",
    "\n",
    "data = pd.read_csv(\"./datasets/teen_phone_addiction_dataset.csv\")"
   ]
  },
  {
   "cell_type": "raw",
   "id": "8583960f-feb4-4e9b-8c2e-7055ed177fe8",
   "metadata": {},
   "source": [
    "Среднее"
   ]
  },
  {
   "cell_type": "code",
   "execution_count": 3,
   "id": "1f863cfe-87f3-4639-9d4b-c9d9bba497ac",
   "metadata": {},
   "outputs": [
    {
     "data": {
      "text/plain": [
       "1.0163333333333333"
      ]
     },
     "execution_count": 3,
     "metadata": {},
     "output_type": "execute_result"
    }
   ],
   "source": [
    "mean = sum(data[col]) / len(data[col])\n",
    "mean"
   ]
  },
  {
   "cell_type": "code",
   "execution_count": 4,
   "id": "aa6f9513-92bc-4605-98eb-80f4baeffd0c",
   "metadata": {},
   "outputs": [
    {
     "data": {
      "text/plain": [
       "np.float64(1.0163333333333333)"
      ]
     },
     "execution_count": 4,
     "metadata": {},
     "output_type": "execute_result"
    }
   ],
   "source": [
    "import numpy as np\n",
    "np.mean(data[col])"
   ]
  },
  {
   "cell_type": "raw",
   "id": "9c9964b6-5819-422b-bb8d-9b6d42b86c55",
   "metadata": {},
   "source": [
    "Дисперсия"
   ]
  },
  {
   "cell_type": "code",
   "execution_count": 5,
   "id": "90648e16-b719-4fd2-8e51-f21925c6b3ce",
   "metadata": {},
   "outputs": [
    {
     "data": {
      "text/plain": [
       "0.4202065555555556"
      ]
     },
     "execution_count": 5,
     "metadata": {},
     "output_type": "execute_result"
    }
   ],
   "source": [
    "variance = sum((x - mean) ** 2 for x in data[col]) / len(data[col])\n",
    "variance"
   ]
  },
  {
   "cell_type": "code",
   "execution_count": 6,
   "id": "5e0a3921-233e-42b4-8a4e-3e4c5eb595a1",
   "metadata": {},
   "outputs": [
    {
     "data": {
      "text/plain": [
       "np.float64(0.42020655555555564)"
      ]
     },
     "execution_count": 6,
     "metadata": {},
     "output_type": "execute_result"
    }
   ],
   "source": [
    "np.var(data[col])"
   ]
  },
  {
   "cell_type": "raw",
   "id": "5768405b-1a59-4af2-8626-6fe60831795e",
   "metadata": {},
   "source": [
    "Мода"
   ]
  },
  {
   "cell_type": "code",
   "execution_count": 7,
   "id": "b182e893-4b71-4605-9247-1fd2b2bf3279",
   "metadata": {},
   "outputs": [
    {
     "data": {
      "text/plain": [
       "0.0"
      ]
     },
     "execution_count": 7,
     "metadata": {},
     "output_type": "execute_result"
    }
   ],
   "source": [
    "def calculate_mode(data):\n",
    "    \n",
    "    frequency_dict = {}\n",
    "    for value in data:\n",
    "        frequency_dict[value] = frequency_dict.get(value, 0) + 1\n",
    "    \n",
    "    \n",
    "    max_frequency = max(frequency_dict.values())\n",
    "    \n",
    "   \n",
    "    all_same_frequency = all(freq == max_frequency for freq in frequency_dict.values())\n",
    "    if all_same_frequency:\n",
    "        return None  \n",
    "    \n",
    "    \n",
    "    modes = [value for value, freq in frequency_dict.items() if freq == max_frequency]\n",
    "    \n",
    "    \n",
    "    sorted_modes = sorted(modes)\n",
    "    \n",
    "   \n",
    "    def are_neighbors(modes_list):\n",
    "        if len(modes_list) <= 1:\n",
    "            return True\n",
    "        \n",
    "        for i in range(1, len(modes_list)):\n",
    "            \n",
    "            current_index = data.index(modes_list[i-1])\n",
    "            next_index = data.index(modes_list[i])\n",
    "            if abs(next_index - current_index) != 1:\n",
    "                return False\n",
    "        return True\n",
    "    \n",
    "    \n",
    "    if len(modes) == 1:\n",
    "        return modes[0]\n",
    "    \n",
    "    \n",
    "    if are_neighbors(sorted_modes):\n",
    "        \n",
    "        return sum(modes) / len(modes)\n",
    "    else:\n",
    "        \n",
    "        return modes\n",
    "mode = calculate_mode(data[col])\n",
    "mode"
   ]
  },
  {
   "cell_type": "code",
   "execution_count": 8,
   "id": "9f58d9c4-c38e-4de3-8dc5-267e038ffb08",
   "metadata": {},
   "outputs": [
    {
     "data": {
      "text/plain": [
       "ModeResult(mode=np.float64(0.0), count=np.int64(250))"
      ]
     },
     "execution_count": 8,
     "metadata": {},
     "output_type": "execute_result"
    }
   ],
   "source": [
    "import scipy\n",
    "\n",
    "scipy.stats.mode(data[col])"
   ]
  },
  {
   "cell_type": "raw",
   "id": "90330c62-8753-4626-b532-cace9623fec8",
   "metadata": {},
   "source": [
    "Медиана"
   ]
  },
  {
   "cell_type": "code",
   "execution_count": 9,
   "id": "bba99b89-571f-49dd-87b0-8393e93c472c",
   "metadata": {},
   "outputs": [
    {
     "data": {
      "text/plain": [
       "1.0"
      ]
     },
     "execution_count": 9,
     "metadata": {},
     "output_type": "execute_result"
    }
   ],
   "source": [
    "def calculate_median(data):\n",
    "    sorted_data = sorted(data)\n",
    "    n = len(sorted_data)\n",
    "    if n % 2 == 0:\n",
    "        return (sorted_data[n//2 - 1] + sorted_data[n//2]) / 2\n",
    "    else:\n",
    "        return sorted_data[n//2]\n",
    "median = calculate_median(data[col])\n",
    "median"
   ]
  },
  {
   "cell_type": "code",
   "execution_count": 10,
   "id": "4edafe45-83bf-4ab0-9dfb-7da1db9d50a8",
   "metadata": {},
   "outputs": [
    {
     "data": {
      "text/plain": [
       "np.float64(1.0)"
      ]
     },
     "execution_count": 10,
     "metadata": {},
     "output_type": "execute_result"
    }
   ],
   "source": [
    "np.median(data[col])"
   ]
  },
  {
   "cell_type": "raw",
   "id": "670ea142-7e72-42bf-b66b-ed4a0c4d9834",
   "metadata": {},
   "source": [
    "Квантили уровня 0.25, 0.5, 0.75"
   ]
  },
  {
   "cell_type": "code",
   "execution_count": null,
   "id": "3f7a8fd5-0f69-4ee3-822b-12a62c5eecfb",
   "metadata": {},
   "outputs": [],
   "source": []
  },
  {
   "cell_type": "code",
   "execution_count": 11,
   "id": "c9138db7-3f16-4144-a238-5ff6c6514a2e",
   "metadata": {},
   "outputs": [
    {
     "data": {
      "text/plain": [
       "np.float64(0.5)"
      ]
     },
     "execution_count": 11,
     "metadata": {},
     "output_type": "execute_result"
    }
   ],
   "source": [
    "np.quantile(data[col], 0.25)"
   ]
  },
  {
   "cell_type": "code",
   "execution_count": null,
   "id": "8fa6ec3d-d161-491a-ab1f-fa1420ca7986",
   "metadata": {},
   "outputs": [],
   "source": []
  },
  {
   "cell_type": "code",
   "execution_count": 12,
   "id": "79a6bd98-6f3d-477f-9a54-15cc3aa67fdb",
   "metadata": {},
   "outputs": [
    {
     "data": {
      "text/plain": [
       "np.float64(1.0)"
      ]
     },
     "execution_count": 12,
     "metadata": {},
     "output_type": "execute_result"
    }
   ],
   "source": [
    "np.quantile(data[col], 0.5)"
   ]
  },
  {
   "cell_type": "code",
   "execution_count": null,
   "id": "52a85168-b46b-4321-977a-b0a845aea157",
   "metadata": {},
   "outputs": [],
   "source": []
  },
  {
   "cell_type": "code",
   "execution_count": 13,
   "id": "f21cea4d-a97e-41a0-9d40-1a2fdc913e88",
   "metadata": {},
   "outputs": [
    {
     "data": {
      "text/plain": [
       "np.float64(1.5)"
      ]
     },
     "execution_count": 13,
     "metadata": {},
     "output_type": "execute_result"
    }
   ],
   "source": [
    "np.quantile(data[col], 0.75)"
   ]
  },
  {
   "cell_type": "raw",
   "id": "d9c852d7-9dde-4dca-83bd-b6e56332e1ab",
   "metadata": {},
   "source": [
    "Эксцесс"
   ]
  },
  {
   "cell_type": "code",
   "execution_count": 14,
   "id": "82a3f263-769f-4f7e-a146-93ef2595e34c",
   "metadata": {},
   "outputs": [
    {
     "data": {
      "text/plain": [
       "-0.39997284929065424"
      ]
     },
     "execution_count": 14,
     "metadata": {},
     "output_type": "execute_result"
    }
   ],
   "source": [
    "import math\n",
    "std_dev = math.sqrt(variance)\n",
    "n = len(data[col])\n",
    "mu4 = sum((x - mean) ** 4 for x in data[col]) / n\n",
    "kurtosis = mu4 / (std_dev ** 4) - 3\n",
    "kurtosis"
   ]
  },
  {
   "cell_type": "code",
   "execution_count": 15,
   "id": "80637a4e-d65b-4868-83c5-1922c462d484",
   "metadata": {},
   "outputs": [
    {
     "data": {
      "text/plain": [
       "np.float64(-0.39997284929065513)"
      ]
     },
     "execution_count": 15,
     "metadata": {},
     "output_type": "execute_result"
    }
   ],
   "source": [
    "scipy.stats.kurtosis(data[col])"
   ]
  },
  {
   "cell_type": "raw",
   "id": "d943f324-00e2-4bf9-9aaa-20081a59ae30",
   "metadata": {},
   "source": [
    "Ассиметрия"
   ]
  },
  {
   "cell_type": "code",
   "execution_count": 16,
   "id": "76822c66-abee-4f54-8611-98d40a52369b",
   "metadata": {},
   "outputs": [
    {
     "data": {
      "text/plain": [
       "0.34002789690434687"
      ]
     },
     "execution_count": 16,
     "metadata": {},
     "output_type": "execute_result"
    }
   ],
   "source": [
    "mu3 = sum((x - mean) ** 3 for x in data[col]) / n\n",
    "skewness = mu3 / (std_dev ** 3)\n",
    "skewness"
   ]
  },
  {
   "cell_type": "code",
   "execution_count": 17,
   "id": "1313243c-c722-459f-bb9d-43d80fcb2b28",
   "metadata": {},
   "outputs": [
    {
     "data": {
      "text/plain": [
       "np.float64(0.34002789690434665)"
      ]
     },
     "execution_count": 17,
     "metadata": {},
     "output_type": "execute_result"
    }
   ],
   "source": [
    "scipy.stats.skew(data[col])"
   ]
  },
  {
   "cell_type": "raw",
   "id": "6fac06ed-5dc1-48f3-ba38-789742de0784",
   "metadata": {},
   "source": [
    "Интервартильный размах"
   ]
  },
  {
   "cell_type": "code",
   "execution_count": 18,
   "id": "aab19895-65bb-437b-8c11-0574c5bcbfdd",
   "metadata": {},
   "outputs": [
    {
     "data": {
      "text/plain": [
       "np.float64(1.0)"
      ]
     },
     "execution_count": 18,
     "metadata": {},
     "output_type": "execute_result"
    }
   ],
   "source": [
    "np.quantile(data[col], 0.75) - np.quantile(data[col], 0.25)"
   ]
  },
  {
   "cell_type": "code",
   "execution_count": 19,
   "id": "f01d23fd-9c7d-4187-ac78-6ef8eac1f2ed",
   "metadata": {},
   "outputs": [
    {
     "data": {
      "text/plain": [
       "np.float64(1.0)"
      ]
     },
     "execution_count": 19,
     "metadata": {},
     "output_type": "execute_result"
    }
   ],
   "source": [
    "scipy.stats.iqr(data[col])"
   ]
  },
  {
   "cell_type": "code",
   "execution_count": 20,
   "id": "379ed0ca-37f0-4849-8547-3294fec3f20e",
   "metadata": {},
   "outputs": [
    {
     "data": {
      "image/png": "[encoded data removed]",
      "text/plain": [
       "<Figure size 640x480 with 1 Axes>"
      ]
     },
     "metadata": {},
     "output_type": "display_data"
    }
   ],
   "source": [
    "import matplotlib.pyplot as plt\n",
    "\n",
    "n = len(data[col])\n",
    "data[col].hist(bins=1 + int(1 + int(np.log2(n))))\n",
    "plt.xlabel('Значения')\n",
    "plt.ylabel('Частота')\n",
    "plt.title('Гистограмма')\n",
    "plt.show()"
   ]
  },
  {
   "cell_type": "code",
   "execution_count": 21,
   "id": "676470a7-b7ae-4fbc-b22a-96012764a9b1",
   "metadata": {},
   "outputs": [],
   "source": [
    "def empirical_distribution_function(data):\n",
    "    sorted_data = sorted(data)\n",
    "    n = len(sorted_data)\n",
    "    \n",
    "    \n",
    "    k = 1 + int(math.log2(n))\n",
    "    \n",
    "    x_min = min(data)\n",
    "    x_max = max(data)\n",
    "    h = (x_max - x_min) / k  \n",
    "    \n",
    "    \n",
    "    a = [x_min + i * h for i in range(k + 1)]\n",
    "    \n",
    "    \n",
    "    cumulative_freq = [0]\n",
    "    current_index = 0  \n",
    "    \n",
    "    for i in range(1, k + 1):\n",
    "        count = 0\n",
    "        while (current_index < n and \n",
    "               sorted_data[current_index] < a[i]):\n",
    "            count += 1\n",
    "            current_index += 1\n",
    "        \n",
    "        cumulative_freq.append(cumulative_freq[-1] + count)\n",
    "    \n",
    "    \n",
    "    cumulative_freq = [freq / n for freq in cumulative_freq]\n",
    "    \n",
    "    return a, cumulative_freq"
   ]
  },
  {
   "cell_type": "code",
   "execution_count": 22,
   "id": "d8e84c18-1a38-4cd7-9fbb-1745a260873e",
   "metadata": {},
   "outputs": [
    {
     "data": {
      "image/png": "[encoded data removed]",
      "text/plain": [
       "<Figure size 1000x600 with 1 Axes>"
      ]
     },
     "metadata": {},
     "output_type": "display_data"
    }
   ],
   "source": [
    "plt.figure(figsize=(10, 6))\n",
    "plt.step(*empirical_distribution_function(data[col]), where='post')\n",
    "plt.title('Эмпирическая функция распределения')\n",
    "plt.xlabel('x')\n",
    "plt.ylabel('F(x)')\n",
    "plt.grid(True)\n",
    "plt.show()"
   ]
  },
  {
   "cell_type": "raw",
   "id": "894e898c-48ec-4633-b794-c767ec0d87f2",
   "metadata": {},
   "source": [
    "Так как Мо < Me < x, то распределение скошено вправо, что видно и из гистограммы"
   ]
  },
  {
   "cell_type": "code",
   "execution_count": 23,
   "id": "fd967aa4-b3d7-4688-bf38-2569474f53dd",
   "metadata": {},
   "outputs": [],
   "source": [
    "from scipy import stats\n",
    "from scipy.stats import norm, chi2\n",
    "import typing as tp\n",
    "\n",
    "\n",
    "def qhi(data: tp.List[float], e=0.05) -> bool:\n",
    "    n = len(data)\n",
    "    k = 1 + int(np.log2(n))\n",
    "    intervals = np.linspace(min(data), max(data), k + 1)\n",
    "    real_freq, bin_edges = np.histogram(data, bins=intervals)\n",
    "    expected_freq = np.array([norm.cdf(bin_edges[i + 1], np.mean(data), np.sqrt(np.var(data, ddof=1, axis=0))) - norm.cdf(\n",
    "        bin_edges[i], np.mean(data), np.sqrt(np.var(data, ddof=1, axis=0))) for i in range(k)]) * n\n",
    "    chi_stat = np.sum((real_freq - expected_freq) ** 2 / (expected_freq + 1e-6))\n",
    "    deg = k - 1 - 2\n",
    "    crit_val = chi2.ppf(0.95, deg)\n",
    "    return chi_stat < crit_val"
   ]
  },
  {
   "cell_type": "code",
   "execution_count": 24,
   "id": "ec90192f-3c70-495f-9608-5c0c2a774bd7",
   "metadata": {},
   "outputs": [
    {
     "data": {
      "text/plain": [
       "np.False_"
      ]
     },
     "execution_count": 24,
     "metadata": {},
     "output_type": "execute_result"
    }
   ],
   "source": [
    "qhi(data[col])"
   ]
  },
  {
   "cell_type": "code",
   "execution_count": 25,
   "id": "ec5155e9-6071-468c-b456-e2064c0b0495",
   "metadata": {},
   "outputs": [],
   "source": [
    "se_skewness = math.sqrt(6 * n * (n - 1) / ((n - 2) * (n + 1) * (n + 3)))\n",
    "se_kurtosis = math.sqrt(24 * n * (n - 1)**2 / ((n - 3) * (n - 2) * (n + 3) * (n + 5)))"
   ]
  },
  {
   "cell_type": "code",
   "execution_count": 26,
   "id": "56893a09-7e26-4761-8daf-3bdaf75d1106",
   "metadata": {},
   "outputs": [
    {
     "data": {
      "text/plain": [
       "False"
      ]
     },
     "execution_count": 26,
     "metadata": {},
     "output_type": "execute_result"
    }
   ],
   "source": [
    "skewness < se_skewness"
   ]
  },
  {
   "cell_type": "code",
   "execution_count": 27,
   "id": "52b58b90-bc43-4e57-816e-8f45f3adea8a",
   "metadata": {},
   "outputs": [
    {
     "data": {
      "text/plain": [
       "True"
      ]
     },
     "execution_count": 27,
     "metadata": {},
     "output_type": "execute_result"
    }
   ],
   "source": [
    "kurtosis < se_kurtosis"
   ]
  },
  {
   "cell_type": "code",
   "execution_count": 28,
   "id": "f40fff61-666c-4299-87e4-8b30efa04fed",
   "metadata": {},
   "outputs": [
    {
     "data": {
      "image/png": "[encoded data removed]",
      "text/plain": [
       "<Figure size 640x480 with 1 Axes>"
      ]
     },
     "metadata": {},
     "output_type": "display_data"
    }
   ],
   "source": [
    "from scipy import stats\n",
    "stats.probplot(data[col], dist=\"norm\", plot=plt)\n",
    "plt.title(\"Q-Q plot (сравнение с нормальным)\")\n",
    "plt.show()"
   ]
  },
  {
   "cell_type": "raw",
   "id": "8784f0e3-5418-433b-ac43-4629cfd11d51",
   "metadata": {},
   "source": [
    "По критериям распределение не является нормальным, это же показывает и Q-Q график. Так как ассиметрия > 0, то распределение правостороннее"
   ]
  },
  {
   "cell_type": "code",
   "execution_count": null,
   "id": "36d47ebd-b748-4b68-a930-71bf4abf734a",
   "metadata": {},
   "outputs": [],
   "source": []
  },
  {
   "cell_type": "code",
   "execution_count": 29,
   "id": "1ef87e01-e815-4d62-9949-f699006028aa",
   "metadata": {},
   "outputs": [],
   "source": [
    "std = variance ** 0.5\n",
    "standardized_data = [(x - mean) / std for x in data[col]]\n"
   ]
  },
  {
   "cell_type": "code",
   "execution_count": 30,
   "id": "ebdb2d0f-bc20-4216-a533-4bf3f1bead3f",
   "metadata": {},
   "outputs": [
    {
     "data": {
      "text/plain": [
       "np.float64(8.289665250534503e-17)"
      ]
     },
     "execution_count": 30,
     "metadata": {},
     "output_type": "execute_result"
    }
   ],
   "source": [
    "np.mean(standardized_data)"
   ]
  },
  {
   "cell_type": "code",
   "execution_count": 31,
   "id": "2028c92d-425b-4ec8-b65d-147ff65fa117",
   "metadata": {},
   "outputs": [
    {
     "data": {
      "text/plain": [
       "np.float64(1.0)"
      ]
     },
     "execution_count": 31,
     "metadata": {},
     "output_type": "execute_result"
    }
   ],
   "source": [
    "np.var(standardized_data)"
   ]
  },
  {
   "cell_type": "code",
   "execution_count": 32,
   "id": "d4c1b130-fcc0-4696-88bd-bf5448acefe7",
   "metadata": {},
   "outputs": [
    {
     "data": {
      "text/plain": [
       "ModeResult(mode=np.float64(-1.5678508937991076), count=np.int64(250))"
      ]
     },
     "execution_count": 32,
     "metadata": {},
     "output_type": "execute_result"
    }
   ],
   "source": [
    "scipy.stats.mode(standardized_data)"
   ]
  },
  {
   "cell_type": "code",
   "execution_count": 33,
   "id": "820a23fc-60dd-4ac8-a7df-59823ccfbe1d",
   "metadata": {},
   "outputs": [
    {
     "data": {
      "text/plain": [
       "np.float64(-0.02519668540379015)"
      ]
     },
     "execution_count": 33,
     "metadata": {},
     "output_type": "execute_result"
    }
   ],
   "source": [
    "np.median(standardized_data)"
   ]
  },
  {
   "cell_type": "code",
   "execution_count": 34,
   "id": "a827daf8-8eda-4d35-9cf6-2adf5930c3a3",
   "metadata": {},
   "outputs": [
    {
     "data": {
      "text/plain": [
       "np.float64(-0.7965237896014489)"
      ]
     },
     "execution_count": 34,
     "metadata": {},
     "output_type": "execute_result"
    }
   ],
   "source": [
    "np.quantile(standardized_data, 0.25)"
   ]
  },
  {
   "cell_type": "code",
   "execution_count": 35,
   "id": "23df500f-7395-468b-aeac-bdfa9ac5fd4a",
   "metadata": {},
   "outputs": [
    {
     "data": {
      "text/plain": [
       "np.float64(-0.02519668540379015)"
      ]
     },
     "execution_count": 35,
     "metadata": {},
     "output_type": "execute_result"
    }
   ],
   "source": [
    "np.quantile(standardized_data, 0.5)"
   ]
  },
  {
   "cell_type": "code",
   "execution_count": 36,
   "id": "9999cb4d-5b3b-4a1b-ba75-30da6445af6c",
   "metadata": {},
   "outputs": [
    {
     "data": {
      "text/plain": [
       "np.float64(0.7461304187938687)"
      ]
     },
     "execution_count": 36,
     "metadata": {},
     "output_type": "execute_result"
    }
   ],
   "source": [
    "np.quantile(standardized_data, 0.75)"
   ]
  },
  {
   "cell_type": "code",
   "execution_count": 37,
   "id": "a36739b5-68a8-48b1-a757-4782ff703b51",
   "metadata": {},
   "outputs": [
    {
     "data": {
      "text/plain": [
       "np.float64(-0.39997284929065424)"
      ]
     },
     "execution_count": 37,
     "metadata": {},
     "output_type": "execute_result"
    }
   ],
   "source": [
    "scipy.stats.kurtosis(standardized_data)"
   ]
  },
  {
   "cell_type": "code",
   "execution_count": 38,
   "id": "fba51c91-ed09-40ad-8e80-45abc609ff9f",
   "metadata": {},
   "outputs": [
    {
     "data": {
      "text/plain": [
       "np.float64(0.3400278969043469)"
      ]
     },
     "execution_count": 38,
     "metadata": {},
     "output_type": "execute_result"
    }
   ],
   "source": [
    "scipy.stats.skew(standardized_data)"
   ]
  },
  {
   "cell_type": "code",
   "execution_count": 39,
   "id": "82ac0f57-1a5e-49c1-90e4-b45d4635e684",
   "metadata": {},
   "outputs": [
    {
     "data": {
      "text/plain": [
       "np.float64(1.5426542083953176)"
      ]
     },
     "execution_count": 39,
     "metadata": {},
     "output_type": "execute_result"
    }
   ],
   "source": [
    "scipy.stats.iqr(standardized_data)"
   ]
  },
  {
   "cell_type": "code",
   "execution_count": 40,
   "id": "f98a6635-2c2e-497f-8210-a7178990cc1f",
   "metadata": {},
   "outputs": [
    {
     "data": {
      "text/plain": [
       "np.False_"
      ]
     },
     "execution_count": 40,
     "metadata": {},
     "output_type": "execute_result"
    }
   ],
   "source": [
    "qhi(standardized_data)"
   ]
  },
  {
   "cell_type": "code",
   "execution_count": 41,
   "id": "124736da-b2e7-4c13-a808-cfe1b1359ffd",
   "metadata": {},
   "outputs": [
    {
     "data": {
      "image/png": "[encoded data removed]",
      "text/plain": [
       "<Figure size 640x480 with 1 Axes>"
      ]
     },
     "metadata": {},
     "output_type": "display_data"
    }
   ],
   "source": [
    "n = len(standardized_data)\n",
    "plt.hist(standardized_data, bins=1 + int(np.log2(n)))\n",
    "plt.xlabel('Значения')\n",
    "plt.ylabel('Частота')\n",
    "plt.title('Гистограмма')\n",
    "plt.show()"
   ]
  },
  {
   "cell_type": "code",
   "execution_count": 42,
   "id": "0c6ad867-516b-47cd-b18c-90e6fec1d4a9",
   "metadata": {},
   "outputs": [
    {
     "data": {
      "image/png": "[encoded data removed]",
      "text/plain": [
       "<Figure size 640x480 with 1 Axes>"
      ]
     },
     "metadata": {},
     "output_type": "display_data"
    }
   ],
   "source": [
    "from scipy import stats\n",
    "stats.probplot(standardized_data, dist=\"norm\", plot=plt)\n",
    "plt.title(\"Q-Q plot (сравнение с нормальным)\")\n",
    "plt.show()"
   ]
  },
  {
   "cell_type": "raw",
   "id": "43ce1efb-b8b8-4cf9-a7f6-9f252bf1b4ba",
   "metadata": {},
   "source": [
    "Нормальное распределение так и не получили"
   ]
  },
  {
   "cell_type": "code",
   "execution_count": 43,
   "id": "cc01b6ab-ae69-45d8-9935-484431048b89",
   "metadata": {},
   "outputs": [],
   "source": [
    "import pandas as pd\n",
    "\n",
    "groups = pd.DataFrame(data).groupby(\"School_Grade\")"
   ]
  },
  {
   "cell_type": "code",
   "execution_count": 44,
   "id": "b9c463bb-2a3d-4616-a422-7578f4f3b003",
   "metadata": {},
   "outputs": [
    {
     "data": {
      "image/png": "[encoded data removed]",
      "text/plain": [
       "<Figure size 1000x600 with 1 Axes>"
      ]
     },
     "metadata": {},
     "output_type": "display_data"
    }
   ],
   "source": [
    "plt.figure(figsize=(10, 6))\n",
    "for grade, subset in groups:\n",
    "    k = 1 + int(np.log2(len(subset)))\n",
    "    plt.hist(subset[col], bins=k, alpha=0.5, label=f\"Grade {grade}\")\n",
    "\n",
    "plt.xlabel(col)\n",
    "plt.ylabel(\"\")\n",
    "plt.title(\"Гистограммы по группам\")\n",
    "plt.legend()\n",
    "plt.show()"
   ]
  },
  {
   "cell_type": "code",
   "execution_count": 45,
   "id": "6ca28ac2-c5b6-4008-8262-33ca2308fd45",
   "metadata": {},
   "outputs": [
    {
     "data": {
      "text/html": [
       "<div>\n",
       "<style scoped>\n",
       "    .dataframe tbody tr th:only-of-type {\n",
       "        vertical-align: middle;\n",
       "    }\n",
       "\n",
       "    .dataframe tbody tr th {\n",
       "        vertical-align: top;\n",
       "    }\n",
       "\n",
       "    .dataframe thead th {\n",
       "        text-align: right;\n",
       "    }\n",
       "</style>\n",
       "<table border=\"1\" class=\"dataframe\">\n",
       "  <thead>\n",
       "    <tr style=\"text-align: right;\">\n",
       "      <th></th>\n",
       "      <th>mean</th>\n",
       "      <th>var</th>\n",
       "    </tr>\n",
       "    <tr>\n",
       "      <th>School_Grade</th>\n",
       "      <th></th>\n",
       "      <th></th>\n",
       "    </tr>\n",
       "  </thead>\n",
       "  <tbody>\n",
       "    <tr>\n",
       "      <th>10th</th>\n",
       "      <td>1.028542</td>\n",
       "      <td>0.448710</td>\n",
       "    </tr>\n",
       "    <tr>\n",
       "      <th>11th</th>\n",
       "      <td>0.991649</td>\n",
       "      <td>0.409888</td>\n",
       "    </tr>\n",
       "    <tr>\n",
       "      <th>12th</th>\n",
       "      <td>1.024008</td>\n",
       "      <td>0.400313</td>\n",
       "    </tr>\n",
       "    <tr>\n",
       "      <th>7th</th>\n",
       "      <td>1.021328</td>\n",
       "      <td>0.418375</td>\n",
       "    </tr>\n",
       "    <tr>\n",
       "      <th>8th</th>\n",
       "      <td>0.975311</td>\n",
       "      <td>0.423859</td>\n",
       "    </tr>\n",
       "    <tr>\n",
       "      <th>9th</th>\n",
       "      <td>1.052662</td>\n",
       "      <td>0.422764</td>\n",
       "    </tr>\n",
       "  </tbody>\n",
       "</table>\n",
       "</div>"
      ],
      "text/plain": [
       "                  mean       var\n",
       "School_Grade                    \n",
       "10th          1.028542  0.448710\n",
       "11th          0.991649  0.409888\n",
       "12th          1.024008  0.400313\n",
       "7th           1.021328  0.418375\n",
       "8th           0.975311  0.423859\n",
       "9th           1.052662  0.422764"
      ]
     },
     "execution_count": 45,
     "metadata": {},
     "output_type": "execute_result"
    }
   ],
   "source": [
    "groups[col].agg([\"mean\", \"var\"])"
   ]
  },
  {
   "cell_type": "raw",
   "id": "0e393eee-77d6-43c1-8f2c-703ee8dd9b49",
   "metadata": {},
   "source": [
    "Если судить по гистограмме, то все классы примерно одинаково тратят время на учебу, выделяются только 8 и 12 классы, у которых пики отличаются от общей массы"
   ]
  }
 ],
 "metadata": {
  "kernelspec": {
   "display_name": "Python 3 (ipykernel)",
   "language": "python",
   "name": "python3"
  },
  "language_info": {
   "codemirror_mode": {
    "name": "ipython",
    "version": 3
   },
   "file_extension": ".py",
   "mimetype": "text/x-python",
   "name": "python",
   "nbconvert_exporter": "python",
   "pygments_lexer": "ipython3",
   "version": "3.13.7"
  }
 },
 "nbformat": 4,
 "nbformat_minor": 5
}
